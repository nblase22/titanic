{
 "cells": [
  {
   "cell_type": "code",
   "execution_count": 1,
   "metadata": {
    "collapsed": true
   },
   "outputs": [],
   "source": [
    "import pandas as pd\n",
    "import os"
   ]
  },
  {
   "cell_type": "code",
   "execution_count": 2,
   "metadata": {},
   "outputs": [
    {
     "data": {
      "text/html": [
       "<div>\n",
       "<style>\n",
       "    .dataframe thead tr:only-child th {\n",
       "        text-align: right;\n",
       "    }\n",
       "\n",
       "    .dataframe thead th {\n",
       "        text-align: left;\n",
       "    }\n",
       "\n",
       "    .dataframe tbody tr th {\n",
       "        vertical-align: top;\n",
       "    }\n",
       "</style>\n",
       "<table border=\"1\" class=\"dataframe\">\n",
       "  <thead>\n",
       "    <tr style=\"text-align: right;\">\n",
       "      <th></th>\n",
       "      <th>PassengerId</th>\n",
       "      <th>Pclass</th>\n",
       "      <th>Name</th>\n",
       "      <th>Sex</th>\n",
       "      <th>Age</th>\n",
       "      <th>SibSp</th>\n",
       "      <th>Parch</th>\n",
       "      <th>Ticket</th>\n",
       "      <th>Fare</th>\n",
       "      <th>Cabin</th>\n",
       "      <th>Embarked</th>\n",
       "    </tr>\n",
       "  </thead>\n",
       "  <tbody>\n",
       "    <tr>\n",
       "      <th>0</th>\n",
       "      <td>892</td>\n",
       "      <td>3</td>\n",
       "      <td>Kelly, Mr. James</td>\n",
       "      <td>male</td>\n",
       "      <td>34.5</td>\n",
       "      <td>0</td>\n",
       "      <td>0</td>\n",
       "      <td>330911</td>\n",
       "      <td>7.8292</td>\n",
       "      <td>NaN</td>\n",
       "      <td>Q</td>\n",
       "    </tr>\n",
       "    <tr>\n",
       "      <th>1</th>\n",
       "      <td>893</td>\n",
       "      <td>3</td>\n",
       "      <td>Wilkes, Mrs. James (Ellen Needs)</td>\n",
       "      <td>female</td>\n",
       "      <td>47.0</td>\n",
       "      <td>1</td>\n",
       "      <td>0</td>\n",
       "      <td>363272</td>\n",
       "      <td>7.0000</td>\n",
       "      <td>NaN</td>\n",
       "      <td>S</td>\n",
       "    </tr>\n",
       "    <tr>\n",
       "      <th>2</th>\n",
       "      <td>894</td>\n",
       "      <td>2</td>\n",
       "      <td>Myles, Mr. Thomas Francis</td>\n",
       "      <td>male</td>\n",
       "      <td>62.0</td>\n",
       "      <td>0</td>\n",
       "      <td>0</td>\n",
       "      <td>240276</td>\n",
       "      <td>9.6875</td>\n",
       "      <td>NaN</td>\n",
       "      <td>Q</td>\n",
       "    </tr>\n",
       "    <tr>\n",
       "      <th>3</th>\n",
       "      <td>895</td>\n",
       "      <td>3</td>\n",
       "      <td>Wirz, Mr. Albert</td>\n",
       "      <td>male</td>\n",
       "      <td>27.0</td>\n",
       "      <td>0</td>\n",
       "      <td>0</td>\n",
       "      <td>315154</td>\n",
       "      <td>8.6625</td>\n",
       "      <td>NaN</td>\n",
       "      <td>S</td>\n",
       "    </tr>\n",
       "    <tr>\n",
       "      <th>4</th>\n",
       "      <td>896</td>\n",
       "      <td>3</td>\n",
       "      <td>Hirvonen, Mrs. Alexander (Helga E Lindqvist)</td>\n",
       "      <td>female</td>\n",
       "      <td>22.0</td>\n",
       "      <td>1</td>\n",
       "      <td>1</td>\n",
       "      <td>3101298</td>\n",
       "      <td>12.2875</td>\n",
       "      <td>NaN</td>\n",
       "      <td>S</td>\n",
       "    </tr>\n",
       "  </tbody>\n",
       "</table>\n",
       "</div>"
      ],
      "text/plain": [
       "   PassengerId  Pclass                                          Name     Sex  \\\n",
       "0          892       3                              Kelly, Mr. James    male   \n",
       "1          893       3              Wilkes, Mrs. James (Ellen Needs)  female   \n",
       "2          894       2                     Myles, Mr. Thomas Francis    male   \n",
       "3          895       3                              Wirz, Mr. Albert    male   \n",
       "4          896       3  Hirvonen, Mrs. Alexander (Helga E Lindqvist)  female   \n",
       "\n",
       "    Age  SibSp  Parch   Ticket     Fare Cabin Embarked  \n",
       "0  34.5      0      0   330911   7.8292   NaN        Q  \n",
       "1  47.0      1      0   363272   7.0000   NaN        S  \n",
       "2  62.0      0      0   240276   9.6875   NaN        Q  \n",
       "3  27.0      0      0   315154   8.6625   NaN        S  \n",
       "4  22.0      1      1  3101298  12.2875   NaN        S  "
      ]
     },
     "execution_count": 2,
     "metadata": {},
     "output_type": "execute_result"
    }
   ],
   "source": [
    "# import the test and training files\n",
    "testData = pd.read_csv('./Data/test.csv')\n",
    "trainData = pd.read_csv('./Data/train.csv')\n",
    "\n",
    "testData.head()\n",
    "# trainData.head()"
   ]
  },
  {
   "cell_type": "code",
   "execution_count": 3,
   "metadata": {},
   "outputs": [
    {
     "data": {
      "text/plain": [
       "['PassengerId',\n",
       " 'Pclass',\n",
       " 'Name',\n",
       " 'Sex',\n",
       " 'Age',\n",
       " 'SibSp',\n",
       " 'Parch',\n",
       " 'Ticket',\n",
       " 'Fare',\n",
       " 'Cabin',\n",
       " 'Embarked']"
      ]
     },
     "execution_count": 3,
     "metadata": {},
     "output_type": "execute_result"
    }
   ],
   "source": [
    "list(testData)"
   ]
  },
  {
   "cell_type": "code",
   "execution_count": 17,
   "metadata": {},
   "outputs": [
    {
     "data": {
      "text/html": [
       "<div>\n",
       "<style>\n",
       "    .dataframe thead tr:only-child th {\n",
       "        text-align: right;\n",
       "    }\n",
       "\n",
       "    .dataframe thead th {\n",
       "        text-align: left;\n",
       "    }\n",
       "\n",
       "    .dataframe tbody tr th {\n",
       "        vertical-align: top;\n",
       "    }\n",
       "</style>\n",
       "<table border=\"1\" class=\"dataframe\">\n",
       "  <thead>\n",
       "    <tr style=\"text-align: right;\">\n",
       "      <th></th>\n",
       "      <th>Survived</th>\n",
       "      <th>Pclass</th>\n",
       "      <th>Sex</th>\n",
       "      <th>Age</th>\n",
       "      <th>SibSp</th>\n",
       "      <th>Parch</th>\n",
       "      <th>Fare</th>\n",
       "    </tr>\n",
       "  </thead>\n",
       "  <tbody>\n",
       "    <tr>\n",
       "      <th>0</th>\n",
       "      <td>0</td>\n",
       "      <td>3</td>\n",
       "      <td>male</td>\n",
       "      <td>22.0</td>\n",
       "      <td>1</td>\n",
       "      <td>0</td>\n",
       "      <td>7.2500</td>\n",
       "    </tr>\n",
       "    <tr>\n",
       "      <th>1</th>\n",
       "      <td>1</td>\n",
       "      <td>1</td>\n",
       "      <td>female</td>\n",
       "      <td>38.0</td>\n",
       "      <td>1</td>\n",
       "      <td>0</td>\n",
       "      <td>71.2833</td>\n",
       "    </tr>\n",
       "    <tr>\n",
       "      <th>2</th>\n",
       "      <td>1</td>\n",
       "      <td>3</td>\n",
       "      <td>female</td>\n",
       "      <td>26.0</td>\n",
       "      <td>0</td>\n",
       "      <td>0</td>\n",
       "      <td>7.9250</td>\n",
       "    </tr>\n",
       "    <tr>\n",
       "      <th>3</th>\n",
       "      <td>1</td>\n",
       "      <td>1</td>\n",
       "      <td>female</td>\n",
       "      <td>35.0</td>\n",
       "      <td>1</td>\n",
       "      <td>0</td>\n",
       "      <td>53.1000</td>\n",
       "    </tr>\n",
       "    <tr>\n",
       "      <th>4</th>\n",
       "      <td>0</td>\n",
       "      <td>3</td>\n",
       "      <td>male</td>\n",
       "      <td>35.0</td>\n",
       "      <td>0</td>\n",
       "      <td>0</td>\n",
       "      <td>8.0500</td>\n",
       "    </tr>\n",
       "  </tbody>\n",
       "</table>\n",
       "</div>"
      ],
      "text/plain": [
       "   Survived  Pclass     Sex   Age  SibSp  Parch     Fare\n",
       "0         0       3    male  22.0      1      0   7.2500\n",
       "1         1       1  female  38.0      1      0  71.2833\n",
       "2         1       3  female  26.0      0      0   7.9250\n",
       "3         1       1  female  35.0      1      0  53.1000\n",
       "4         0       3    male  35.0      0      0   8.0500"
      ]
     },
     "execution_count": 17,
     "metadata": {},
     "output_type": "execute_result"
    }
   ],
   "source": [
    "# drop columns from test/train not used in model\n",
    "testDataTrim = testData.drop([\"PassengerId\", \"Name\", \"Ticket\", \"Embarked\", \"Cabin\"], axis=1)\n",
    "#testDataTrim.head()\n",
    "\n",
    "trainDataTrim = trainData.drop([\"PassengerId\", \"Name\", \"Ticket\", \"Embarked\", \"Cabin\"], axis=1)\n",
    "#trainDataTrim.head()\n",
    "\n",
    "# fill in NaN with 0 to represent no cabin/no embarcation in both train and test\n",
    "#testDataTrim[\"Cabin\"] = testDataTrim[\"Cabin\"].fillna(\"N\")\n",
    "#trainDataTrim[\"Cabin\"] = trainDataTrim[\"Cabin\"].fillna(\"N\")\n",
    "#trainDataTrim[\"Embarked\"] = trainDataTrim[\"Embarked\"].fillna(\"N\")\n",
    "#testDataTrim[\"Embarked\"] = testDataTrim[\"Embarked\"].fillna(\"N\")\n",
    "\n",
    "\n",
    "\n",
    "#testDataTrim.head()\n",
    "trainDataTrim.head()"
   ]
  },
  {
   "cell_type": "code",
   "execution_count": 18,
   "metadata": {
    "collapsed": true
   },
   "outputs": [],
   "source": [
    "from sklearn.preprocessing import LabelEncoder\n",
    "\n",
    "\n",
    "class MultiColumnLabelEncoder:\n",
    "    def __init__(self,columns = None):\n",
    "        self.columns = columns # array of column names to encode\n",
    "\n",
    "    def fit(self,X,y=None):\n",
    "        return self # not relevant here\n",
    "\n",
    "    def transform(self,X):\n",
    "        '''\n",
    "        Transforms columns of X specified in self.columns using\n",
    "        LabelEncoder(). If no columns specified, transforms all\n",
    "        columns in X.\n",
    "        '''\n",
    "        output = X.copy()\n",
    "        if self.columns is not None:\n",
    "            for col in self.columns:\n",
    "                output[col] = LabelEncoder().fit_transform(output[col])\n",
    "        else:\n",
    "            for colname,col in output.iteritems():\n",
    "                output[colname] = LabelEncoder().fit_transform(col)\n",
    "        return output\n",
    "\n",
    "    def fit_transform(self,X,y=None):\n",
    "        return self.fit(X,y).transform(X)\n",
    "\n",
    "# trainDataEncode = MultiColumnLabelEncoder(columns = ['Sex', 'Cabin', 'Embarked']).fit_transform(trainDataTrim)\n",
    "#trainDataEncode = MultiColumnLabelEncoder(columns = ['Sex', 'Cabin']).fit_transform(trainDataTrim)\n",
    "trainDataEncode = MultiColumnLabelEncoder(columns = ['Sex']).fit_transform(trainDataTrim)\n"
   ]
  },
  {
   "cell_type": "code",
   "execution_count": 8,
   "metadata": {},
   "outputs": [
    {
     "ename": "AttributeError",
     "evalue": "'DataFrame' object has no attribute 'Embarked'",
     "output_type": "error",
     "traceback": [
      "\u001b[1;31m---------------------------------------------------------------------------\u001b[0m",
      "\u001b[1;31mAttributeError\u001b[0m                            Traceback (most recent call last)",
      "\u001b[1;32m<ipython-input-8-02e331322e3d>\u001b[0m in \u001b[0;36m<module>\u001b[1;34m()\u001b[0m\n\u001b[1;32m----> 1\u001b[1;33m \u001b[0mtrainDataEncode\u001b[0m\u001b[1;33m.\u001b[0m\u001b[0mEmbarked\u001b[0m\u001b[1;33m.\u001b[0m\u001b[0munique\u001b[0m\u001b[1;33m(\u001b[0m\u001b[1;33m)\u001b[0m\u001b[1;33m\u001b[0m\u001b[0m\n\u001b[0m",
      "\u001b[1;32m~\\AppData\\Local\\conda\\conda\\envs\\PythonData\\lib\\site-packages\\pandas\\core\\generic.py\u001b[0m in \u001b[0;36m__getattr__\u001b[1;34m(self, name)\u001b[0m\n\u001b[0;32m   3079\u001b[0m             \u001b[1;32mif\u001b[0m \u001b[0mname\u001b[0m \u001b[1;32min\u001b[0m \u001b[0mself\u001b[0m\u001b[1;33m.\u001b[0m\u001b[0m_info_axis\u001b[0m\u001b[1;33m:\u001b[0m\u001b[1;33m\u001b[0m\u001b[0m\n\u001b[0;32m   3080\u001b[0m                 \u001b[1;32mreturn\u001b[0m \u001b[0mself\u001b[0m\u001b[1;33m[\u001b[0m\u001b[0mname\u001b[0m\u001b[1;33m]\u001b[0m\u001b[1;33m\u001b[0m\u001b[0m\n\u001b[1;32m-> 3081\u001b[1;33m             \u001b[1;32mreturn\u001b[0m \u001b[0mobject\u001b[0m\u001b[1;33m.\u001b[0m\u001b[0m__getattribute__\u001b[0m\u001b[1;33m(\u001b[0m\u001b[0mself\u001b[0m\u001b[1;33m,\u001b[0m \u001b[0mname\u001b[0m\u001b[1;33m)\u001b[0m\u001b[1;33m\u001b[0m\u001b[0m\n\u001b[0m\u001b[0;32m   3082\u001b[0m \u001b[1;33m\u001b[0m\u001b[0m\n\u001b[0;32m   3083\u001b[0m     \u001b[1;32mdef\u001b[0m \u001b[0m__setattr__\u001b[0m\u001b[1;33m(\u001b[0m\u001b[0mself\u001b[0m\u001b[1;33m,\u001b[0m \u001b[0mname\u001b[0m\u001b[1;33m,\u001b[0m \u001b[0mvalue\u001b[0m\u001b[1;33m)\u001b[0m\u001b[1;33m:\u001b[0m\u001b[1;33m\u001b[0m\u001b[0m\n",
      "\u001b[1;31mAttributeError\u001b[0m: 'DataFrame' object has no attribute 'Embarked'"
     ]
    }
   ],
   "source": [
    "# if using embarked\n",
    "# trainDataEncode.Embarked.unique()"
   ]
  },
  {
   "cell_type": "code",
   "execution_count": 38,
   "metadata": {
    "collapsed": true
   },
   "outputs": [],
   "source": [
    "# Reformat the data\n",
    "trainDataVals = trainDataEncode.values\n",
    "\n",
    "X = trainDataVals[:,1:9]\n",
    "y = trainDataVals[:,0]\n",
    "\n",
    "from sklearn.preprocessing import LabelEncoder\n",
    "label_encoder = LabelEncoder()\n",
    "label_encoder.fit(y)\n",
    "encoded_y = label_encoder.transform(y)"
   ]
  },
  {
   "cell_type": "code",
   "execution_count": 20,
   "metadata": {
    "collapsed": true
   },
   "outputs": [],
   "source": [
    "from sklearn.model_selection import train_test_split\n",
    "from sklearn.preprocessing import LabelEncoder\n",
    "from sklearn.feature_extraction.text import CountVectorizer\n",
    "from keras.utils import to_categorical\n",
    "from sklearn.externals import joblib"
   ]
  },
  {
   "cell_type": "code",
   "execution_count": 39,
   "metadata": {},
   "outputs": [
    {
     "name": "stdout",
     "output_type": "stream",
     "text": [
      "(223, 2) (668, 2)\n",
      "(668, 6)\n"
     ]
    }
   ],
   "source": [
    "# split the data into train/test, X_train will be combined with additional columns below\n",
    "X_train, X_test, y_train, y_test = train_test_split(X, encoded_y, random_state=42, stratify=encoded_y)\n",
    "\n",
    "# convert the encoded labels to one-hot-encoding\n",
    "y_train_categorical = to_categorical(y_train)\n",
    "y_test_categorical = to_categorical(y_test)\n",
    "\n",
    "print(y_test_categorical.shape, y_train_categorical.shape)\n",
    "print(X_train.shape)"
   ]
  },
  {
   "cell_type": "code",
   "execution_count": 40,
   "metadata": {
    "scrolled": true
   },
   "outputs": [
    {
     "name": "stdout",
     "output_type": "stream",
     "text": [
      "_________________________________________________________________\n",
      "Layer (type)                 Output Shape              Param #   \n",
      "=================================================================\n",
      "dense_14 (Dense)             (None, 1000)              7000      \n",
      "_________________________________________________________________\n",
      "dense_15 (Dense)             (None, 1000)              1001000   \n",
      "_________________________________________________________________\n",
      "dense_16 (Dense)             (None, 500)               500500    \n",
      "_________________________________________________________________\n",
      "dense_17 (Dense)             (None, 2)                 1002      \n",
      "=================================================================\n",
      "Total params: 1,509,502\n",
      "Trainable params: 1,509,502\n",
      "Non-trainable params: 0\n",
      "_________________________________________________________________\n"
     ]
    }
   ],
   "source": [
    "# create the deep learning model\n",
    "from keras.models import Sequential\n",
    "from keras.layers import Dense\n",
    "\n",
    "model = Sequential()\n",
    "model.add(Dense(units=1000, activation='relu', input_dim=X_train.shape[1]))\n",
    "model.add(Dense(units=1000, activation='relu', input_dim=X_train.shape[1]))\n",
    "model.add(Dense(units=500, activation='relu', input_dim=X_train.shape[1]))\n",
    "model.add(Dense(units=2, activation='softmax'))\n",
    "\n",
    "model.summary()"
   ]
  },
  {
   "cell_type": "code",
   "execution_count": 41,
   "metadata": {},
   "outputs": [
    {
     "name": "stdout",
     "output_type": "stream",
     "text": [
      "Epoch 1/100\n",
      " - 1s - loss: nan - acc: 0.6168\n",
      "Epoch 2/100\n",
      " - 1s - loss: nan - acc: 0.6168\n",
      "Epoch 3/100\n",
      " - 1s - loss: nan - acc: 0.6168\n",
      "Epoch 4/100\n",
      " - 1s - loss: nan - acc: 0.6168\n",
      "Epoch 5/100\n",
      " - 1s - loss: nan - acc: 0.6168\n",
      "Epoch 6/100\n",
      " - 1s - loss: nan - acc: 0.6168\n",
      "Epoch 7/100\n",
      " - 1s - loss: nan - acc: 0.6168\n",
      "Epoch 8/100\n",
      " - 1s - loss: nan - acc: 0.6168\n",
      "Epoch 9/100\n",
      " - 1s - loss: nan - acc: 0.6168\n",
      "Epoch 10/100\n",
      " - 1s - loss: nan - acc: 0.6168\n",
      "Epoch 11/100\n",
      " - 1s - loss: nan - acc: 0.6168\n",
      "Epoch 12/100\n",
      " - 1s - loss: nan - acc: 0.6168\n",
      "Epoch 13/100\n",
      " - 1s - loss: nan - acc: 0.6168\n",
      "Epoch 14/100\n",
      " - 1s - loss: nan - acc: 0.6168\n",
      "Epoch 15/100\n",
      " - 1s - loss: nan - acc: 0.6168\n",
      "Epoch 16/100\n",
      " - 1s - loss: nan - acc: 0.6168\n",
      "Epoch 17/100\n",
      " - 1s - loss: nan - acc: 0.6168\n",
      "Epoch 18/100\n",
      " - 1s - loss: nan - acc: 0.6168\n",
      "Epoch 19/100\n",
      " - 1s - loss: nan - acc: 0.6168\n",
      "Epoch 20/100\n",
      " - 1s - loss: nan - acc: 0.6168\n",
      "Epoch 21/100\n",
      " - 1s - loss: nan - acc: 0.6168\n",
      "Epoch 22/100\n",
      " - 1s - loss: nan - acc: 0.6168\n",
      "Epoch 23/100\n",
      " - 1s - loss: nan - acc: 0.6168\n",
      "Epoch 24/100\n",
      " - 1s - loss: nan - acc: 0.6168\n",
      "Epoch 25/100\n",
      " - 1s - loss: nan - acc: 0.6168\n",
      "Epoch 26/100\n",
      " - 1s - loss: nan - acc: 0.6168\n",
      "Epoch 27/100\n",
      " - 1s - loss: nan - acc: 0.6168\n",
      "Epoch 28/100\n",
      " - 1s - loss: nan - acc: 0.6168\n",
      "Epoch 29/100\n",
      " - 1s - loss: nan - acc: 0.6168\n",
      "Epoch 30/100\n",
      " - 1s - loss: nan - acc: 0.6168\n",
      "Epoch 31/100\n",
      " - 1s - loss: nan - acc: 0.6168\n",
      "Epoch 32/100\n",
      " - 1s - loss: nan - acc: 0.6168\n",
      "Epoch 33/100\n",
      " - 1s - loss: nan - acc: 0.6168\n",
      "Epoch 34/100\n",
      " - 1s - loss: nan - acc: 0.6168\n",
      "Epoch 35/100\n",
      " - 1s - loss: nan - acc: 0.6168\n",
      "Epoch 36/100\n",
      " - 1s - loss: nan - acc: 0.6168\n",
      "Epoch 37/100\n",
      " - 1s - loss: nan - acc: 0.6168\n",
      "Epoch 38/100\n",
      " - 1s - loss: nan - acc: 0.6168\n",
      "Epoch 39/100\n",
      " - 1s - loss: nan - acc: 0.6168\n",
      "Epoch 40/100\n",
      " - 1s - loss: nan - acc: 0.6168\n",
      "Epoch 41/100\n",
      " - 1s - loss: nan - acc: 0.6168\n",
      "Epoch 42/100\n",
      " - 1s - loss: nan - acc: 0.6168\n",
      "Epoch 43/100\n",
      " - 1s - loss: nan - acc: 0.6168\n",
      "Epoch 44/100\n",
      " - 1s - loss: nan - acc: 0.6168\n",
      "Epoch 45/100\n",
      " - 1s - loss: nan - acc: 0.6168\n",
      "Epoch 46/100\n",
      " - 1s - loss: nan - acc: 0.6168\n",
      "Epoch 47/100\n",
      " - 1s - loss: nan - acc: 0.6168\n",
      "Epoch 48/100\n",
      " - 1s - loss: nan - acc: 0.6168\n",
      "Epoch 49/100\n",
      " - 1s - loss: nan - acc: 0.6168\n",
      "Epoch 50/100\n",
      " - 1s - loss: nan - acc: 0.6168\n",
      "Epoch 51/100\n",
      " - 1s - loss: nan - acc: 0.6168\n",
      "Epoch 52/100\n",
      " - 1s - loss: nan - acc: 0.6168\n",
      "Epoch 53/100\n",
      " - 1s - loss: nan - acc: 0.6168\n",
      "Epoch 54/100\n",
      " - 1s - loss: nan - acc: 0.6168\n",
      "Epoch 55/100\n",
      " - 1s - loss: nan - acc: 0.6168\n",
      "Epoch 56/100\n",
      " - 1s - loss: nan - acc: 0.6168\n",
      "Epoch 57/100\n",
      " - 1s - loss: nan - acc: 0.6168\n",
      "Epoch 58/100\n",
      " - 1s - loss: nan - acc: 0.6168\n",
      "Epoch 59/100\n",
      " - 1s - loss: nan - acc: 0.6168\n",
      "Epoch 60/100\n",
      " - 1s - loss: nan - acc: 0.6168\n",
      "Epoch 61/100\n",
      " - 1s - loss: nan - acc: 0.6168\n",
      "Epoch 62/100\n",
      " - 1s - loss: nan - acc: 0.6168\n",
      "Epoch 63/100\n",
      " - 1s - loss: nan - acc: 0.6168\n",
      "Epoch 64/100\n",
      " - 1s - loss: nan - acc: 0.6168\n",
      "Epoch 65/100\n",
      " - 1s - loss: nan - acc: 0.6168\n",
      "Epoch 66/100\n",
      " - 1s - loss: nan - acc: 0.6168\n",
      "Epoch 67/100\n",
      " - 1s - loss: nan - acc: 0.6168\n",
      "Epoch 68/100\n",
      " - 1s - loss: nan - acc: 0.6168\n",
      "Epoch 69/100\n",
      " - 1s - loss: nan - acc: 0.6168\n",
      "Epoch 70/100\n",
      " - 1s - loss: nan - acc: 0.6168\n",
      "Epoch 71/100\n",
      " - 1s - loss: nan - acc: 0.6168\n",
      "Epoch 72/100\n",
      " - 1s - loss: nan - acc: 0.6168\n",
      "Epoch 73/100\n",
      " - 1s - loss: nan - acc: 0.6168\n",
      "Epoch 74/100\n",
      " - 1s - loss: nan - acc: 0.6168\n",
      "Epoch 75/100\n",
      " - 1s - loss: nan - acc: 0.6168\n",
      "Epoch 76/100\n",
      " - 1s - loss: nan - acc: 0.6168\n",
      "Epoch 77/100\n",
      " - 1s - loss: nan - acc: 0.6168\n",
      "Epoch 78/100\n",
      " - 1s - loss: nan - acc: 0.6168\n",
      "Epoch 79/100\n",
      " - 1s - loss: nan - acc: 0.6168\n",
      "Epoch 80/100\n",
      " - 1s - loss: nan - acc: 0.6168\n",
      "Epoch 81/100\n",
      " - 1s - loss: nan - acc: 0.6168\n",
      "Epoch 82/100\n",
      " - 1s - loss: nan - acc: 0.6168\n",
      "Epoch 83/100\n",
      " - 1s - loss: nan - acc: 0.6168\n",
      "Epoch 84/100\n",
      " - 1s - loss: nan - acc: 0.6168\n",
      "Epoch 85/100\n",
      " - 1s - loss: nan - acc: 0.6168\n",
      "Epoch 86/100\n",
      " - 1s - loss: nan - acc: 0.6168\n",
      "Epoch 87/100\n",
      " - 1s - loss: nan - acc: 0.6168\n",
      "Epoch 88/100\n",
      " - 1s - loss: nan - acc: 0.6168\n",
      "Epoch 89/100\n",
      " - 1s - loss: nan - acc: 0.6168\n",
      "Epoch 90/100\n",
      " - 1s - loss: nan - acc: 0.6168\n",
      "Epoch 91/100\n",
      " - 1s - loss: nan - acc: 0.6168\n",
      "Epoch 92/100\n",
      " - 1s - loss: nan - acc: 0.6168\n",
      "Epoch 93/100\n",
      " - 1s - loss: nan - acc: 0.6168\n",
      "Epoch 94/100\n",
      " - 1s - loss: nan - acc: 0.6168\n",
      "Epoch 95/100\n",
      " - 1s - loss: nan - acc: 0.6168\n",
      "Epoch 96/100\n",
      " - 1s - loss: nan - acc: 0.6168\n",
      "Epoch 97/100\n",
      " - 1s - loss: nan - acc: 0.6168\n",
      "Epoch 98/100\n",
      " - 1s - loss: nan - acc: 0.6168\n",
      "Epoch 99/100\n",
      " - 1s - loss: nan - acc: 0.6168\n",
      "Epoch 100/100\n",
      " - 1s - loss: nan - acc: 0.6168\n"
     ]
    },
    {
     "data": {
      "text/plain": [
       "<keras.callbacks.History at 0x1c362794630>"
      ]
     },
     "execution_count": 41,
     "metadata": {},
     "output_type": "execute_result"
    }
   ],
   "source": [
    "# compile the model and fit it\n",
    "model.compile(optimizer='adam', loss='categorical_crossentropy', metrics=['accuracy'])\n",
    "\n",
    "model.fit(\n",
    "    X_train,\n",
    "    y_train_categorical,\n",
    "    epochs=100,\n",
    "    shuffle=True,\n",
    "    verbose=2\n",
    ")"
   ]
  },
  {
   "cell_type": "code",
   "execution_count": 42,
   "metadata": {},
   "outputs": [
    {
     "name": "stdout",
     "output_type": "stream",
     "text": [
      "Normal Neural Network - Loss: nan, Accuracy: 0.6143497731118993\n"
     ]
    }
   ],
   "source": [
    "# evaluate the model\n",
    "model_loss, model_accuracy = model.evaluate(X_test, y_test_categorical, verbose=2)\n",
    "print(f\"Normal Neural Network - Loss: {model_loss}, Accuracy: {model_accuracy}\")"
   ]
  },
  {
   "cell_type": "code",
   "execution_count": 43,
   "metadata": {
    "collapsed": true
   },
   "outputs": [],
   "source": [
    "model.save(\"titanic_trained.h5\")"
   ]
  },
  {
   "cell_type": "code",
   "execution_count": 44,
   "metadata": {
    "collapsed": true
   },
   "outputs": [],
   "source": [
    "from keras.models import load_model\n",
    "model = load_model(\"titanic_trained.h5\")"
   ]
  },
  {
   "cell_type": "code",
   "execution_count": 45,
   "metadata": {},
   "outputs": [
    {
     "name": "stdout",
     "output_type": "stream",
     "text": [
      "[0. 0. 0. 0. 0. 0. 0. 0. 0. 0. 0. 0. 0. 0. 0. 0. 0. 0. 0. 0. 0. 0. 0. 0.\n",
      " 0. 0. 0. 0. 0. 0. 0. 0. 0. 0. 0. 0. 0. 0. 0. 0. 0. 0. 0. 0. 0. 0. 0. 0.\n",
      " 0. 0. 0. 0. 0. 0. 0. 0. 0. 0. 0. 0. 0. 0. 0. 0. 0. 0. 0. 0. 0. 0. 0. 0.\n",
      " 0. 0. 0. 0. 0. 0. 0. 0. 0. 0. 0. 0. 0. 0. 0. 0. 0. 0. 0. 0. 0. 0. 0. 0.\n",
      " 0. 0. 0. 0. 0. 0. 0. 0. 0. 0. 0. 0. 0. 0. 0. 0. 0. 0. 0. 0. 0. 0. 0. 0.\n",
      " 0. 0. 0. 0. 0. 0. 0. 0. 0. 0. 0. 0. 0. 0. 0. 0. 0. 0. 0. 0. 0. 0. 0. 0.\n",
      " 0. 0. 0. 0. 0. 0. 0. 0. 0. 0. 0. 0. 0. 0. 0. 0. 0. 0. 0. 0. 0. 0. 0. 0.\n",
      " 0. 0. 0. 0. 0. 0. 0. 0. 0. 0. 0. 0. 0. 0. 0. 0. 0. 0. 0. 0. 0. 0. 0. 0.\n",
      " 0. 0. 0. 0. 0. 0. 0. 0. 0. 0. 0. 0. 0. 0. 0. 0. 0. 0. 0. 0. 0. 0. 0. 0.\n",
      " 0. 0. 0. 0. 0. 0. 0. 0. 0. 0. 0. 0. 0. 0. 0. 0. 0. 0. 0. 0. 0. 0. 0. 0.\n",
      " 0. 0. 0. 0. 0. 0. 0. 0. 0. 0. 0. 0. 0. 0. 0. 0. 0. 0. 0. 0. 0. 0. 0. 0.\n",
      " 0. 0. 0. 0. 0. 0. 0. 0. 0. 0. 0. 0. 0. 0. 0. 0. 0. 0. 0. 0. 0. 0. 0. 0.\n",
      " 0. 0. 0. 0. 0. 0. 0. 0. 0. 0. 0. 0. 0. 0. 0. 0. 0. 0. 0. 0. 0. 0. 0. 0.\n",
      " 0. 0. 0. 0. 0. 0. 0. 0. 0. 0. 0. 0. 0. 0. 0. 0. 0. 0. 0. 0. 0. 0. 0. 0.\n",
      " 0. 0. 0. 0. 0. 0. 0. 0. 0. 0. 0. 0. 0. 0. 0. 0. 0. 0. 0. 0. 0. 0. 0. 0.\n",
      " 0. 0. 0. 0. 0. 0. 0. 0. 0. 0. 0. 0. 0. 0. 0. 0. 0. 0. 0. 0. 0. 0. 0. 0.\n",
      " 0. 0. 0. 0. 0. 0. 0. 0. 0. 0. 0. 0. 0. 0. 0. 0. 0. 0. 0. 0. 0. 0. 0. 0.\n",
      " 0. 0. 0. 0. 0. 0. 0. 0. 0. 0.]\n"
     ]
    },
    {
     "name": "stderr",
     "output_type": "stream",
     "text": [
      "C:\\Users\\nathan\\AppData\\Local\\conda\\conda\\envs\\PythonData\\lib\\site-packages\\sklearn\\preprocessing\\label.py:151: DeprecationWarning: The truth value of an empty array is ambiguous. Returning False, but in future this will result in an error. Use `array.size > 0` to check that an array is not empty.\n",
      "  if diff:\n"
     ]
    }
   ],
   "source": [
    "testDataEncode = MultiColumnLabelEncoder(columns = ['Sex']).fit_transform(testDataTrim)\n",
    "encoded_test = model.predict_classes(testDataEncode)\n",
    "predict_label = label_encoder.inverse_transform(encoded_test)\n",
    "print(predict_label)"
   ]
  },
  {
   "cell_type": "code",
   "execution_count": 59,
   "metadata": {
    "collapsed": true
   },
   "outputs": [],
   "source": [
    "PassengerID = testData[\"PassengerId\"].values\n",
    "output_dict = {}\n",
    "\n",
    "\n",
    "for i in range(0, len(PassengerID)):\n",
    "    output_dict[PassengerID[i]] = predict_label[i]\n",
    "               \n",
    "\n",
    "survival_output = pd.DataFrame.from_dict(output_dict, orient=\"index\")\n",
    "survival_output.head()\n",
    "survival_output.to_csv('./Output/output.csv', header=False)\n",
    "    "
   ]
  },
  {
   "cell_type": "code",
   "execution_count": null,
   "metadata": {
    "collapsed": true
   },
   "outputs": [],
   "source": []
  }
 ],
 "metadata": {
  "kernelspec": {
   "display_name": "Python [conda env:PythonData]",
   "language": "python",
   "name": "conda-env-PythonData-py"
  },
  "language_info": {
   "codemirror_mode": {
    "name": "ipython",
    "version": 3
   },
   "file_extension": ".py",
   "mimetype": "text/x-python",
   "name": "python",
   "nbconvert_exporter": "python",
   "pygments_lexer": "ipython3",
   "version": "3.6.2"
  }
 },
 "nbformat": 4,
 "nbformat_minor": 2
}
